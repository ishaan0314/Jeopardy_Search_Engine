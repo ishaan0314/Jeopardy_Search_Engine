{
 "cells": [
  {
   "cell_type": "code",
   "execution_count": null,
   "id": "1f57ca53-788b-4af0-a76c-04d36ca3f74f",
   "metadata": {},
   "outputs": [],
   "source": [
    "import pandas as pd\n",
    "import regex as re\n",
    "data = pd.read_csv(\"/Users/ishaan/Downloads/archive (1)/master_season1-35.tsv\", sep = \"\\t\")"
   ]
  },
  {
   "cell_type": "code",
   "execution_count": 27,
   "id": "d24ef237",
   "metadata": {},
   "outputs": [
    {
     "data": {
      "text/plain": [
       "(349641, 9)"
      ]
     },
     "execution_count": 27,
     "metadata": {},
     "output_type": "execute_result"
    }
   ],
   "source": [
    "data.shape"
   ]
  },
  {
   "cell_type": "code",
   "execution_count": 2,
   "id": "66b74bb5",
   "metadata": {},
   "outputs": [
    {
     "data": {
      "text/html": [
       "<div>\n",
       "<style scoped>\n",
       "    .dataframe tbody tr th:only-of-type {\n",
       "        vertical-align: middle;\n",
       "    }\n",
       "\n",
       "    .dataframe tbody tr th {\n",
       "        vertical-align: top;\n",
       "    }\n",
       "\n",
       "    .dataframe thead th {\n",
       "        text-align: right;\n",
       "    }\n",
       "</style>\n",
       "<table border=\"1\" class=\"dataframe\">\n",
       "  <thead>\n",
       "    <tr style=\"text-align: right;\">\n",
       "      <th></th>\n",
       "      <th>round</th>\n",
       "      <th>value</th>\n",
       "      <th>daily_double</th>\n",
       "      <th>category</th>\n",
       "      <th>comments</th>\n",
       "      <th>answer</th>\n",
       "      <th>question</th>\n",
       "      <th>air_date</th>\n",
       "      <th>notes</th>\n",
       "    </tr>\n",
       "  </thead>\n",
       "  <tbody>\n",
       "    <tr>\n",
       "      <th>0</th>\n",
       "      <td>1</td>\n",
       "      <td>100</td>\n",
       "      <td>no</td>\n",
       "      <td>LAKES &amp; RIVERS</td>\n",
       "      <td>-</td>\n",
       "      <td>River mentioned most often in the Bible</td>\n",
       "      <td>the Jordan</td>\n",
       "      <td>1984-09-10</td>\n",
       "      <td>-</td>\n",
       "    </tr>\n",
       "    <tr>\n",
       "      <th>1</th>\n",
       "      <td>1</td>\n",
       "      <td>200</td>\n",
       "      <td>no</td>\n",
       "      <td>LAKES &amp; RIVERS</td>\n",
       "      <td>-</td>\n",
       "      <td>Scottish word for lake</td>\n",
       "      <td>loch</td>\n",
       "      <td>1984-09-10</td>\n",
       "      <td>-</td>\n",
       "    </tr>\n",
       "    <tr>\n",
       "      <th>2</th>\n",
       "      <td>1</td>\n",
       "      <td>400</td>\n",
       "      <td>no</td>\n",
       "      <td>LAKES &amp; RIVERS</td>\n",
       "      <td>-</td>\n",
       "      <td>American river only 33 miles shorter than the ...</td>\n",
       "      <td>the Missouri</td>\n",
       "      <td>1984-09-10</td>\n",
       "      <td>-</td>\n",
       "    </tr>\n",
       "    <tr>\n",
       "      <th>3</th>\n",
       "      <td>1</td>\n",
       "      <td>500</td>\n",
       "      <td>no</td>\n",
       "      <td>LAKES &amp; RIVERS</td>\n",
       "      <td>-</td>\n",
       "      <td>World's largest lake, nearly 5 times as big as...</td>\n",
       "      <td>the Caspian Sea</td>\n",
       "      <td>1984-09-10</td>\n",
       "      <td>-</td>\n",
       "    </tr>\n",
       "    <tr>\n",
       "      <th>4</th>\n",
       "      <td>1</td>\n",
       "      <td>100</td>\n",
       "      <td>no</td>\n",
       "      <td>INVENTIONS</td>\n",
       "      <td>-</td>\n",
       "      <td>Marconi's wonderful wireless</td>\n",
       "      <td>the radio</td>\n",
       "      <td>1984-09-10</td>\n",
       "      <td>-</td>\n",
       "    </tr>\n",
       "  </tbody>\n",
       "</table>\n",
       "</div>"
      ],
      "text/plain": [
       "   round  value daily_double        category comments  \\\n",
       "0      1    100           no  LAKES & RIVERS        -   \n",
       "1      1    200           no  LAKES & RIVERS        -   \n",
       "2      1    400           no  LAKES & RIVERS        -   \n",
       "3      1    500           no  LAKES & RIVERS        -   \n",
       "4      1    100           no      INVENTIONS        -   \n",
       "\n",
       "                                              answer         question  \\\n",
       "0            River mentioned most often in the Bible       the Jordan   \n",
       "1                             Scottish word for lake             loch   \n",
       "2  American river only 33 miles shorter than the ...     the Missouri   \n",
       "3  World's largest lake, nearly 5 times as big as...  the Caspian Sea   \n",
       "4                       Marconi's wonderful wireless        the radio   \n",
       "\n",
       "     air_date notes  \n",
       "0  1984-09-10     -  \n",
       "1  1984-09-10     -  \n",
       "2  1984-09-10     -  \n",
       "3  1984-09-10     -  \n",
       "4  1984-09-10     -  "
      ]
     },
     "execution_count": 2,
     "metadata": {},
     "output_type": "execute_result"
    }
   ],
   "source": [
    "data.head()"
   ]
  },
  {
   "cell_type": "code",
   "execution_count": 3,
   "id": "eed5d74a-648f-4560-8f85-1567c163ac69",
   "metadata": {},
   "outputs": [],
   "source": [
    "import warnings\n",
    "warnings.filterwarnings(\"ignore\")"
   ]
  },
  {
   "cell_type": "code",
   "execution_count": 4,
   "id": "96ecc16d-5ad3-47d1-89ca-e57b97c045f0",
   "metadata": {},
   "outputs": [
    {
     "name": "stderr",
     "output_type": "stream",
     "text": [
      "2025-04-22 13:31:01.595474: I tensorflow/core/platform/cpu_feature_guard.cc:210] This TensorFlow binary is optimized to use available CPU instructions in performance-critical operations.\n",
      "To enable the following instructions: AVX2 FMA, in other operations, rebuild TensorFlow with the appropriate compiler flags.\n"
     ]
    }
   ],
   "source": [
    "#!pip install sentence-transformers\n",
    "#!pip install tf-keras\n",
    "import numpy as np\n",
    "from sentence_transformers import SentenceTransformer\n",
    "from sklearn.metrics.pairwise import cosine_similarity"
   ]
  },
  {
   "cell_type": "code",
   "execution_count": 7,
   "id": "530414ae-3b78-417a-b489-002bf6310974",
   "metadata": {},
   "outputs": [
    {
     "data": {
      "text/plain": [
       "Index(['round', 'value', 'daily_double', 'category', 'comments', 'answer',\n",
       "       'question', 'air_date', 'notes'],\n",
       "      dtype='object')"
      ]
     },
     "execution_count": 7,
     "metadata": {},
     "output_type": "execute_result"
    }
   ],
   "source": [
    "data.columns"
   ]
  },
  {
   "cell_type": "code",
   "execution_count": 8,
   "id": "2986f78a-6c33-4647-9b0c-fd739b9cd740",
   "metadata": {},
   "outputs": [
    {
     "data": {
      "text/html": [
       "<div>\n",
       "<style scoped>\n",
       "    .dataframe tbody tr th:only-of-type {\n",
       "        vertical-align: middle;\n",
       "    }\n",
       "\n",
       "    .dataframe tbody tr th {\n",
       "        vertical-align: top;\n",
       "    }\n",
       "\n",
       "    .dataframe thead th {\n",
       "        text-align: right;\n",
       "    }\n",
       "</style>\n",
       "<table border=\"1\" class=\"dataframe\">\n",
       "  <thead>\n",
       "    <tr style=\"text-align: right;\">\n",
       "      <th></th>\n",
       "      <th>answer</th>\n",
       "      <th>question</th>\n",
       "      <th>category</th>\n",
       "    </tr>\n",
       "  </thead>\n",
       "  <tbody>\n",
       "    <tr>\n",
       "      <th>0</th>\n",
       "      <td>River mentioned most often in the Bible</td>\n",
       "      <td>the Jordan</td>\n",
       "      <td>LAKES &amp; RIVERS</td>\n",
       "    </tr>\n",
       "    <tr>\n",
       "      <th>1</th>\n",
       "      <td>Scottish word for lake</td>\n",
       "      <td>loch</td>\n",
       "      <td>LAKES &amp; RIVERS</td>\n",
       "    </tr>\n",
       "    <tr>\n",
       "      <th>2</th>\n",
       "      <td>American river only 33 miles shorter than the ...</td>\n",
       "      <td>the Missouri</td>\n",
       "      <td>LAKES &amp; RIVERS</td>\n",
       "    </tr>\n",
       "    <tr>\n",
       "      <th>3</th>\n",
       "      <td>World's largest lake, nearly 5 times as big as...</td>\n",
       "      <td>the Caspian Sea</td>\n",
       "      <td>LAKES &amp; RIVERS</td>\n",
       "    </tr>\n",
       "    <tr>\n",
       "      <th>4</th>\n",
       "      <td>Marconi's wonderful wireless</td>\n",
       "      <td>the radio</td>\n",
       "      <td>INVENTIONS</td>\n",
       "    </tr>\n",
       "  </tbody>\n",
       "</table>\n",
       "</div>"
      ],
      "text/plain": [
       "                                              answer         question  \\\n",
       "0            River mentioned most often in the Bible       the Jordan   \n",
       "1                             Scottish word for lake             loch   \n",
       "2  American river only 33 miles shorter than the ...     the Missouri   \n",
       "3  World's largest lake, nearly 5 times as big as...  the Caspian Sea   \n",
       "4                       Marconi's wonderful wireless        the radio   \n",
       "\n",
       "         category  \n",
       "0  LAKES & RIVERS  \n",
       "1  LAKES & RIVERS  \n",
       "2  LAKES & RIVERS  \n",
       "3  LAKES & RIVERS  \n",
       "4      INVENTIONS  "
      ]
     },
     "execution_count": 8,
     "metadata": {},
     "output_type": "execute_result"
    }
   ],
   "source": [
    "q_a = data[[\"answer\", \"question\", \"category\"]]\n",
    "q_a.head()"
   ]
  },
  {
   "cell_type": "code",
   "execution_count": 9,
   "id": "f7f739af-a7b2-4178-9d27-1e600c787dd5",
   "metadata": {},
   "outputs": [],
   "source": [
    "def clean_text(text):\n",
    "    cleaned_text =  re.sub(r'[^a-zA-Z0-9\\s]', '', text.lower().strip())\n",
    "    return cleaned_text"
   ]
  },
  {
   "cell_type": "code",
   "execution_count": 10,
   "id": "0d48651d-1f15-44bb-9c69-db820349b2bd",
   "metadata": {},
   "outputs": [],
   "source": [
    "q_a['question'] = q_a['question'].astype(str).apply(clean_text)\n",
    "q_a['answer'] = q_a['answer'].astype(str).apply(clean_text)\n",
    "q_a['category'] = q_a['category'].astype(str).apply(clean_text)"
   ]
  },
  {
   "cell_type": "code",
   "execution_count": 11,
   "id": "86e1d867-50fd-46d9-96e1-476c0da3db66",
   "metadata": {},
   "outputs": [
    {
     "data": {
      "text/html": [
       "<div>\n",
       "<style scoped>\n",
       "    .dataframe tbody tr th:only-of-type {\n",
       "        vertical-align: middle;\n",
       "    }\n",
       "\n",
       "    .dataframe tbody tr th {\n",
       "        vertical-align: top;\n",
       "    }\n",
       "\n",
       "    .dataframe thead th {\n",
       "        text-align: right;\n",
       "    }\n",
       "</style>\n",
       "<table border=\"1\" class=\"dataframe\">\n",
       "  <thead>\n",
       "    <tr style=\"text-align: right;\">\n",
       "      <th></th>\n",
       "      <th>answer</th>\n",
       "      <th>question</th>\n",
       "      <th>category</th>\n",
       "    </tr>\n",
       "  </thead>\n",
       "  <tbody>\n",
       "    <tr>\n",
       "      <th>0</th>\n",
       "      <td>river mentioned most often in the bible</td>\n",
       "      <td>the jordan</td>\n",
       "      <td>lakes  rivers</td>\n",
       "    </tr>\n",
       "    <tr>\n",
       "      <th>1</th>\n",
       "      <td>scottish word for lake</td>\n",
       "      <td>loch</td>\n",
       "      <td>lakes  rivers</td>\n",
       "    </tr>\n",
       "    <tr>\n",
       "      <th>2</th>\n",
       "      <td>american river only 33 miles shorter than the ...</td>\n",
       "      <td>the missouri</td>\n",
       "      <td>lakes  rivers</td>\n",
       "    </tr>\n",
       "    <tr>\n",
       "      <th>3</th>\n",
       "      <td>worlds largest lake nearly 5 times as big as s...</td>\n",
       "      <td>the caspian sea</td>\n",
       "      <td>lakes  rivers</td>\n",
       "    </tr>\n",
       "    <tr>\n",
       "      <th>4</th>\n",
       "      <td>marconis wonderful wireless</td>\n",
       "      <td>the radio</td>\n",
       "      <td>inventions</td>\n",
       "    </tr>\n",
       "  </tbody>\n",
       "</table>\n",
       "</div>"
      ],
      "text/plain": [
       "                                              answer         question  \\\n",
       "0            river mentioned most often in the bible       the jordan   \n",
       "1                             scottish word for lake             loch   \n",
       "2  american river only 33 miles shorter than the ...     the missouri   \n",
       "3  worlds largest lake nearly 5 times as big as s...  the caspian sea   \n",
       "4                        marconis wonderful wireless        the radio   \n",
       "\n",
       "        category  \n",
       "0  lakes  rivers  \n",
       "1  lakes  rivers  \n",
       "2  lakes  rivers  \n",
       "3  lakes  rivers  \n",
       "4     inventions  "
      ]
     },
     "execution_count": 11,
     "metadata": {},
     "output_type": "execute_result"
    }
   ],
   "source": [
    "q_a.head()"
   ]
  },
  {
   "cell_type": "code",
   "execution_count": 13,
   "id": "2d5265ba-c49c-4f31-96bc-f530a10864c6",
   "metadata": {},
   "outputs": [],
   "source": [
    "#!pip install ipywidgets --upgrade\n",
    "#!jupyter labextension install @jupyter-widgets/jupyterlab-manager@v2\n",
    "#!jupyter lab build"
   ]
  },
  {
   "cell_type": "code",
   "execution_count": 18,
   "id": "4be3cd46-b404-4890-8ef6-862ed4e37e5f",
   "metadata": {},
   "outputs": [],
   "source": [
    "#from tqdm import tqdm\n",
    "#from sentence_transformers import SentenceTransformer\n",
    "\n",
    "model = SentenceTransformer('all-MiniLM-L6-v2')\n",
    "\n",
    "# Apply tqdm to your pandas series\n",
    "#q_a['q_embedding'] = q_a['question'].apply(lambda x: model.encode(x, convert_to_numpy=True))\n",
    "#q_a['a_embedding'] = q_a['answer'].apply(lambda x: model.encode(x, convert_to_numpy=True))"
   ]
  },
  {
   "cell_type": "code",
   "execution_count": 11,
   "id": "d4905730-da60-4163-a29d-3e16c20ddb1c",
   "metadata": {},
   "outputs": [],
   "source": [
    "#q_a.to_pickle(\"jeopardy_with_embeddings.pkl\")"
   ]
  },
  {
   "cell_type": "code",
   "execution_count": 12,
   "id": "4c9a6147-f2d9-484c-a625-4b7ca067fdde",
   "metadata": {},
   "outputs": [
    {
     "data": {
      "text/html": [
       "<div>\n",
       "<style scoped>\n",
       "    .dataframe tbody tr th:only-of-type {\n",
       "        vertical-align: middle;\n",
       "    }\n",
       "\n",
       "    .dataframe tbody tr th {\n",
       "        vertical-align: top;\n",
       "    }\n",
       "\n",
       "    .dataframe thead th {\n",
       "        text-align: right;\n",
       "    }\n",
       "</style>\n",
       "<table border=\"1\" class=\"dataframe\">\n",
       "  <thead>\n",
       "    <tr style=\"text-align: right;\">\n",
       "      <th></th>\n",
       "      <th>answer</th>\n",
       "      <th>question</th>\n",
       "      <th>category</th>\n",
       "      <th>q_embedding</th>\n",
       "      <th>a_embedding</th>\n",
       "    </tr>\n",
       "  </thead>\n",
       "  <tbody>\n",
       "    <tr>\n",
       "      <th>0</th>\n",
       "      <td>river mentioned most often in the bible</td>\n",
       "      <td>the jordan</td>\n",
       "      <td>lakes  rivers</td>\n",
       "      <td>[-0.00089073076, 0.12694257, -0.06492324, 0.04...</td>\n",
       "      <td>[0.04561206, 0.10563557, 0.0056359367, 0.00589...</td>\n",
       "    </tr>\n",
       "    <tr>\n",
       "      <th>1</th>\n",
       "      <td>scottish word for lake</td>\n",
       "      <td>loch</td>\n",
       "      <td>lakes  rivers</td>\n",
       "      <td>[0.026929816, -0.010473593, 0.009912812, 0.039...</td>\n",
       "      <td>[0.0060076676, -0.008746384, -0.018628595, -0....</td>\n",
       "    </tr>\n",
       "    <tr>\n",
       "      <th>2</th>\n",
       "      <td>american river only 33 miles shorter than the ...</td>\n",
       "      <td>the missouri</td>\n",
       "      <td>lakes  rivers</td>\n",
       "      <td>[0.017947417, 0.032795604, 0.010262107, 0.0986...</td>\n",
       "      <td>[0.09347568, 0.052192014, 0.002176766, -0.0128...</td>\n",
       "    </tr>\n",
       "    <tr>\n",
       "      <th>3</th>\n",
       "      <td>worlds largest lake nearly 5 times as big as s...</td>\n",
       "      <td>the caspian sea</td>\n",
       "      <td>lakes  rivers</td>\n",
       "      <td>[-0.043156452, 0.09111538, -0.039893687, 0.019...</td>\n",
       "      <td>[0.05761624, 0.040556036, 0.024782812, -0.0531...</td>\n",
       "    </tr>\n",
       "    <tr>\n",
       "      <th>4</th>\n",
       "      <td>marconis wonderful wireless</td>\n",
       "      <td>the radio</td>\n",
       "      <td>inventions</td>\n",
       "      <td>[-0.011442868, 0.09393178, -0.092939794, 0.038...</td>\n",
       "      <td>[-0.1215708, 0.058970764, -0.00368905, -0.0221...</td>\n",
       "    </tr>\n",
       "  </tbody>\n",
       "</table>\n",
       "</div>"
      ],
      "text/plain": [
       "                                              answer         question  \\\n",
       "0            river mentioned most often in the bible       the jordan   \n",
       "1                             scottish word for lake             loch   \n",
       "2  american river only 33 miles shorter than the ...     the missouri   \n",
       "3  worlds largest lake nearly 5 times as big as s...  the caspian sea   \n",
       "4                        marconis wonderful wireless        the radio   \n",
       "\n",
       "        category                                        q_embedding  \\\n",
       "0  lakes  rivers  [-0.00089073076, 0.12694257, -0.06492324, 0.04...   \n",
       "1  lakes  rivers  [0.026929816, -0.010473593, 0.009912812, 0.039...   \n",
       "2  lakes  rivers  [0.017947417, 0.032795604, 0.010262107, 0.0986...   \n",
       "3  lakes  rivers  [-0.043156452, 0.09111538, -0.039893687, 0.019...   \n",
       "4     inventions  [-0.011442868, 0.09393178, -0.092939794, 0.038...   \n",
       "\n",
       "                                         a_embedding  \n",
       "0  [0.04561206, 0.10563557, 0.0056359367, 0.00589...  \n",
       "1  [0.0060076676, -0.008746384, -0.018628595, -0....  \n",
       "2  [0.09347568, 0.052192014, 0.002176766, -0.0128...  \n",
       "3  [0.05761624, 0.040556036, 0.024782812, -0.0531...  \n",
       "4  [-0.1215708, 0.058970764, -0.00368905, -0.0221...  "
      ]
     },
     "execution_count": 12,
     "metadata": {},
     "output_type": "execute_result"
    }
   ],
   "source": [
    "embeddings = pd.read_pickle(\"/Users/ishaan/Downloads/jeopardy_with_embeddings.pkl\")\n",
    "embeddings.head()"
   ]
  },
  {
   "cell_type": "markdown",
   "id": "98d4e377-6cf3-4dfe-9cef-53ddbc1432db",
   "metadata": {},
   "source": [
    "## Spell Checking"
   ]
  },
  {
   "cell_type": "code",
   "execution_count": 13,
   "id": "78243cec-c62d-4913-9db0-a622a2fe9647",
   "metadata": {},
   "outputs": [
    {
     "data": {
      "text/plain": [
       "True"
      ]
     },
     "execution_count": 13,
     "metadata": {},
     "output_type": "execute_result"
    }
   ],
   "source": [
    "#pip install symspellpy\n",
    "\n",
    "from symspellpy import SymSpell, Verbosity\n",
    "\n",
    "# Initialize\n",
    "sym_spell = SymSpell(max_dictionary_edit_distance=2, prefix_length=7)\n",
    "\n",
    "# Load dictionary\n",
    "dictionary_path = \"/Users/ishaan/Downloads/frequency_dictionary_en_82_765.txt\"\n",
    "term_index = 0       # column of the word\n",
    "count_index = 1      # column of the frequency\n",
    "sym_spell.load_dictionary(dictionary_path, term_index, count_index)\n"
   ]
  },
  {
   "cell_type": "code",
   "execution_count": 15,
   "id": "eeb8c0a8-0b7b-4282-bdd3-3f8925d9290c",
   "metadata": {},
   "outputs": [],
   "source": [
    "def correct_spelling_symspell(text):\n",
    "    suggestions = sym_spell.lookup_compound(text, max_edit_distance=2)\n",
    "    if suggestions:\n",
    "        return suggestions[0].term\n",
    "    return text\n"
   ]
  },
  {
   "cell_type": "code",
   "execution_count": 28,
   "id": "788608ab-d032-486d-8d55-cfcb35ed2a61",
   "metadata": {},
   "outputs": [],
   "source": [
    "from sklearn.metrics.pairwise import cosine_similarity\n",
    "\n",
    "def search(query, top_k=5):\n",
    "    corrected_query = correct_spelling_symspell(query)\n",
    "    print(f\"Original: {query} | Corrected: {corrected_query}\")\n",
    "    \n",
    "    query_vec = model.encode(corrected_query, convert_to_numpy=True).reshape(1, -1)\n",
    "    matrix = np.vstack(embeddings['q_embedding'].values)\n",
    "    scores = cosine_similarity(query_vec, matrix).flatten()\n",
    "    \n",
    "    top_indices = scores.argsort()[-top_k:][::-1]\n",
    "    results = embeddings.iloc[top_indices][['question', 'answer', 'category']].copy()\n",
    "    results['score'] = scores[top_indices]\n",
    "    return results\n",
    "\n"
   ]
  },
  {
   "cell_type": "code",
   "execution_count": 33,
   "id": "2a6771bc-1aec-4334-b714-a5710ec96798",
   "metadata": {},
   "outputs": [
    {
     "name": "stdout",
     "output_type": "stream",
     "text": [
      "Original: nanana | Corrected: banana\n",
      "       question                                             answer  \\\n",
      "109836   banana  fruity first name of acclaimed japanese author...   \n",
      "172050   banana                    harry belafonte  boat song dayo   \n",
      "89084    banana  ecuador is the worlds largest exporter of this...   \n",
      "146336   banana  a chiquita cocktail combines cointreau cream  ...   \n",
      "50210    banana  ben  jerrys chunky monkey ice cream is this fr...   \n",
      "\n",
      "                  category  score  \n",
      "109836  20th century women    1.0  \n",
      "172050   the musical fruit    1.0  \n",
      "89084                  aaa    1.0  \n",
      "146336     potent potables    1.0  \n",
      "50210               sweets    1.0  \n"
     ]
    }
   ],
   "source": [
    "query = \"nanana\"\n",
    "results = search(query, top_k=5)\n",
    "print(results)"
   ]
  }
 ],
 "metadata": {
  "kernelspec": {
   "display_name": "base",
   "language": "python",
   "name": "python3"
  },
  "language_info": {
   "codemirror_mode": {
    "name": "ipython",
    "version": 3
   },
   "file_extension": ".py",
   "mimetype": "text/x-python",
   "name": "python",
   "nbconvert_exporter": "python",
   "pygments_lexer": "ipython3",
   "version": "3.11.7"
  }
 },
 "nbformat": 4,
 "nbformat_minor": 5
}
